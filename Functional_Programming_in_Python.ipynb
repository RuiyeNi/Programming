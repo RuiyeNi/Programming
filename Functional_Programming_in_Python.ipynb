{
  "nbformat": 4,
  "nbformat_minor": 0,
  "metadata": {
    "colab": {
      "name": "Functional Programming in Python.ipynb",
      "provenance": [],
      "include_colab_link": true
    },
    "kernelspec": {
      "name": "python3",
      "display_name": "Python 3"
    }
  },
  "cells": [
    {
      "cell_type": "markdown",
      "metadata": {
        "id": "view-in-github",
        "colab_type": "text"
      },
      "source": [
        "<a href=\"https://colab.research.google.com/github/RuiyeNi/Programming/blob/master/Functional_Programming_in_Python.ipynb\" target=\"_parent\"><img src=\"https://colab.research.google.com/assets/colab-badge.svg\" alt=\"Open In Colab\"/></a>"
      ]
    },
    {
      "cell_type": "markdown",
      "metadata": {
        "id": "-7CCH3I2SEUm",
        "colab_type": "text"
      },
      "source": [
        "[Source](https://towardsdatascience.com/elements-of-functional-programming-in-python-1b295ea5bbe0)  \n",
        "**Programming Paradigms**:\n",
        "* Imperative\n",
        "   * Procedural\n",
        "   * Object-oriented\n",
        "* Declarative\n",
        "  * Functional\n",
        "  * Logic\n",
        "  * Mathematical\n",
        "* Functional Programming(FP)\n",
        "  * First class functions\n",
        "  * No side effects\n",
        "  * Lazy evaluation\n",
        "  * Statelessness\n",
        "  * Immutable data\n",
        "  * Pure functions\n",
        "\n",
        "**Python Functional Programming Style Functions**:\n",
        "  * lambda \n",
        "  * map\n",
        "  * filter\n",
        "  * reduce\n",
        " \n",
        "The map, filter and reduce functions simplify the job of working with lists. When used along with lambda expressions they help to accomplish a lot in a single line of code."
      ]
    },
    {
      "cell_type": "markdown",
      "metadata": {
        "id": "-T8JMzcMTeok",
        "colab_type": "text"
      },
      "source": [
        "## The Lambda Expression  \n",
        "Definition:  \n",
        "Aka `anonymous functions`, create and use a function in a single line.  \n",
        "  \n",
        "  \n",
        "Use case:  \n",
        "when need a short function that will be used only once.  \n",
        "\n",
        "\n",
        "Syntax:  \n",
        "lambda params: fun(params)"
      ]
    },
    {
      "cell_type": "code",
      "metadata": {
        "id": "yVLWdJ-uRx3a",
        "colab_type": "code",
        "outputId": "148c1aae-aa11-4000-c0bc-25e6e9cac3ab",
        "colab": {
          "base_uri": "https://localhost:8080/",
          "height": 34
        }
      },
      "source": [
        "# standard approach\n",
        "def f(x):\n",
        "  return 5*x + 2\n",
        "\n",
        "f(3)"
      ],
      "execution_count": 0,
      "outputs": [
        {
          "output_type": "execute_result",
          "data": {
            "text/plain": [
              "17"
            ]
          },
          "metadata": {
            "tags": []
          },
          "execution_count": 2
        }
      ]
    },
    {
      "cell_type": "code",
      "metadata": {
        "id": "aXESSM5FUXY3",
        "colab_type": "code",
        "outputId": "6c78be51-c782-45f8-dd85-8afe155a205c",
        "colab": {
          "base_uri": "https://localhost:8080/",
          "height": 34
        }
      },
      "source": [
        "# lambda function\n",
        "lambda x: 5*x+2"
      ],
      "execution_count": 0,
      "outputs": [
        {
          "output_type": "execute_result",
          "data": {
            "text/plain": [
              "<function __main__.<lambda>>"
            ]
          },
          "metadata": {
            "tags": []
          },
          "execution_count": 6
        }
      ]
    },
    {
      "cell_type": "code",
      "metadata": {
        "id": "_-9wsGjYUprY",
        "colab_type": "code",
        "outputId": "c8ebf54d-f18e-4e45-f359-7b576951ff74",
        "colab": {
          "base_uri": "https://localhost:8080/",
          "height": 34
        }
      },
      "source": [
        "g = lambda x: 5*x + 2\n",
        "g(3)"
      ],
      "execution_count": 0,
      "outputs": [
        {
          "output_type": "execute_result",
          "data": {
            "text/plain": [
              "17"
            ]
          },
          "metadata": {
            "tags": []
          },
          "execution_count": 8
        }
      ]
    },
    {
      "cell_type": "code",
      "metadata": {
        "id": "VmLqtj4CVZhI",
        "colab_type": "code",
        "outputId": "89ed2766-a313-4d44-86b9-3bd739cd6f46",
        "colab": {
          "base_uri": "https://localhost:8080/",
          "height": 34
        }
      },
      "source": [
        "# sort a list by it last letter\n",
        "presidents_usa = [\"Washintong\", \"Adams\", \"Madison\", \"Monroe\", \"Jackson\"]\n",
        "\n",
        "presidents_usa.sort(key=lambda name: list(name)[-1].lower())\n",
        "\n",
        "presidents_usa"
      ],
      "execution_count": 0,
      "outputs": [
        {
          "output_type": "execute_result",
          "data": {
            "text/plain": [
              "['Monroe', 'Washintong', 'Madison', 'Jackson', 'Adams']"
            ]
          },
          "metadata": {
            "tags": []
          },
          "execution_count": 10
        }
      ]
    },
    {
      "cell_type": "markdown",
      "metadata": {
        "id": "eSKPtlc4V9ze",
        "colab_type": "text"
      },
      "source": [
        "## The Map Function  \n",
        "Definition:  \n",
        "Applies a function to every item of iterable, yielding the results.\n",
        "\n",
        "Use case:  \n",
        "Transform a given list to a new list by applying a function to all the functions in an input list.\n",
        "\n",
        "Syntax:  \n",
        "map(function_to_apply, iterables)"
      ]
    },
    {
      "cell_type": "code",
      "metadata": {
        "id": "zBipEXxSWl9U",
        "colab_type": "code",
        "outputId": "d78a1ab2-b05a-49cb-db20-1f39b1d06481",
        "colab": {
          "base_uri": "https://localhost:8080/",
          "height": 50
        }
      },
      "source": [
        "# define a function\n",
        "def volume(a):\n",
        "  \"\"\"volume of a cube with edge 'a'\"\"\"\n",
        "  return a**3\n",
        "\n",
        "# declare edges\n",
        "edges = [1, 2, 3, 4, 5]\n",
        "\n",
        "\n",
        "# compute volume for a given edge\n",
        "\n",
        "print(map(volume, edges)) # output of a map funciton is a map object\n",
        "                          # an iteratior over the results\n",
        "\n",
        "print(list(map(volume, edges))) # Turn the ouput into a list by passing\n",
        "                                # the map to the list constructor"
      ],
      "execution_count": 0,
      "outputs": [
        {
          "output_type": "stream",
          "text": [
            "<map object at 0x7f4bb4e86518>\n",
            "[1, 8, 27, 64, 125]\n"
          ],
          "name": "stdout"
        }
      ]
    },
    {
      "cell_type": "code",
      "metadata": {
        "id": "iDBSWMpcX8aV",
        "colab_type": "code",
        "outputId": "394f9c51-9aa7-4e3e-d709-fcf1cf9c021a",
        "colab": {
          "base_uri": "https://localhost:8080/",
          "height": 34
        }
      },
      "source": [
        "# lambda + map\n",
        "\n",
        "# Convert height from cms to feet: 1cm = 0.0328 feet\n",
        "height_in_cms = [('Tom', 183), ('Daisy', 171), ('Nick', 165)]\n",
        "\n",
        "# lambda function convertor\n",
        "height_in_feet = lambda data: (data[0], round(data[1]*0.0328, 1))\n",
        "\n",
        "# use map function\n",
        "list(map(height_in_feet, height_in_cms))"
      ],
      "execution_count": 0,
      "outputs": [
        {
          "output_type": "execute_result",
          "data": {
            "text/plain": [
              "[('Tom', 6.0), ('Daisy', 5.6), ('Nick', 5.4)]"
            ]
          },
          "metadata": {
            "tags": []
          },
          "execution_count": 16
        }
      ]
    },
    {
      "cell_type": "markdown",
      "metadata": {
        "id": "bs6ZpgMNY29u",
        "colab_type": "text"
      },
      "source": [
        "## The Filter Functions\n",
        "\n",
        "Defnition:  \n",
        "Constructions an iterator from those elements of iterable for \n",
        "which function returns true. \n",
        "\n",
        "Use case:  \n",
        "Used to select certain pieces of data from a list.\n",
        "\n",
        "Syntax:  \n",
        "filter(function, iterable)"
      ]
    },
    {
      "cell_type": "code",
      "metadata": {
        "id": "PS0QC0LFZLb6",
        "colab_type": "code",
        "outputId": "354f41d4-4126-4f43-f542-4b8ddfed5b96",
        "colab": {
          "base_uri": "https://localhost:8080/",
          "height": 34
        }
      },
      "source": [
        "# Filter out all the numbers greater then 5 from a given list \n",
        "my_list = range(10)\n",
        "output_list = filter(lambda x: x >5, my_list)\n",
        "\n",
        "print(list(output_list))"
      ],
      "execution_count": 0,
      "outputs": [
        {
          "output_type": "stream",
          "text": [
            "[6, 7, 8, 9]\n"
          ],
          "name": "stdout"
        }
      ]
    },
    {
      "cell_type": "code",
      "metadata": {
        "id": "gopCF76pZcGD",
        "colab_type": "code",
        "outputId": "24c11b85-dd1c-4856-b962-474c9f31dbb3",
        "colab": {
          "base_uri": "https://localhost:8080/",
          "height": 34
        }
      },
      "source": [
        "# Filter out missing values\n",
        "countries = [\"\", \"China\", \"Thailand\", \"Iceland\"]\n",
        "\n",
        "list(filter(None, countries))"
      ],
      "execution_count": 0,
      "outputs": [
        {
          "output_type": "execute_result",
          "data": {
            "text/plain": [
              "['China', 'Thailand', 'Iceland']"
            ]
          },
          "metadata": {
            "tags": []
          },
          "execution_count": 20
        }
      ]
    },
    {
      "cell_type": "markdown",
      "metadata": {
        "id": "0CCgjiBWZyDV",
        "colab_type": "text"
      },
      "source": [
        "## The Reduce Function\n",
        "Defintion:  \n",
        "Transforms a given list into a single value by applying a function cumulatively to the items of sequence, from left to right\n",
        "\n",
        "Use case:  \n",
        "Get a single value from a sequence\n",
        "\n",
        "\n",
        "Syntax:  \n",
        "not a build-in funciton  \n",
        "**from functools import reduce**\n",
        "\n",
        "reduce(func, seq)"
      ]
    },
    {
      "cell_type": "code",
      "metadata": {
        "id": "Rz9SrLDyaXO1",
        "colab_type": "code",
        "outputId": "f0ef0fe5-cb90-4b87-f910-987f204d0cf7",
        "colab": {
          "base_uri": "https://localhost:8080/",
          "height": 34
        }
      },
      "source": [
        "# compute the production of a list of integers \n",
        "from functools import reduce\n",
        "product = reduce(lambda x, y: x*y, [1, 2, 3, 4, 5])\n",
        "product\n",
        "\n",
        "\n",
        "#1*2 -> *3 -> *4 -> *5 "
      ],
      "execution_count": 0,
      "outputs": [
        {
          "output_type": "execute_result",
          "data": {
            "text/plain": [
              "120"
            ]
          },
          "metadata": {
            "tags": []
          },
          "execution_count": 21
        }
      ]
    },
    {
      "cell_type": "markdown",
      "metadata": {
        "id": "Al91qRu8bGPJ",
        "colab_type": "text"
      },
      "source": [
        "## List Comprehensions: Alternative to map, filter and reduce\n",
        "\n"
      ]
    },
    {
      "cell_type": "code",
      "metadata": {
        "id": "XOjnzCYphbU8",
        "colab_type": "code",
        "outputId": "730299c1-c924-4ac6-f96d-525e2420be79",
        "colab": {
          "base_uri": "https://localhost:8080/",
          "height": 50
        }
      },
      "source": [
        "# list compreshension\n",
        "lc_example = [n**2 for n in [1, 2, 3, 4, 5]]\n",
        "\n",
        "\n",
        "# generator\n",
        "genex_example = (n**2 for n in [1, 2, 3, 4, 5])\n",
        "\n",
        "print(lc_example)\n",
        "print(genex_example)"
      ],
      "execution_count": 0,
      "outputs": [
        {
          "output_type": "stream",
          "text": [
            "[1, 4, 9, 16, 25]\n",
            "<generator object <genexpr> at 0x7f4bb4dfcc50>\n"
          ],
          "name": "stdout"
        }
      ]
    },
    {
      "cell_type": "code",
      "metadata": {
        "id": "D94wPiWshez-",
        "colab_type": "code",
        "outputId": "50ddebbd-77d6-485c-9015-d1ff9a264428",
        "colab": {
          "base_uri": "https://localhost:8080/",
          "height": 50
        }
      },
      "source": [
        "genex_example2 = (n**2 for n in [1, 2, 3, 4, 5] if n >= 3)\n",
        "print(next(genex_example2))\n",
        "print(next(genex_example2))"
      ],
      "execution_count": 0,
      "outputs": [
        {
          "output_type": "stream",
          "text": [
            "9\n",
            "16\n"
          ],
          "name": "stdout"
        }
      ]
    },
    {
      "cell_type": "code",
      "metadata": {
        "id": "qMVD57E0hxGI",
        "colab_type": "code",
        "outputId": "4101c3c8-dc48-4c94-f26a-b5628108bc4e",
        "colab": {
          "base_uri": "https://localhost:8080/",
          "height": 50
        }
      },
      "source": [
        "def multiply():\n",
        "  a = [1, 2, 3, 4, 5]\n",
        "  \n",
        "  for ia in a:\n",
        "    yield ia**2\n",
        "    \n",
        "mul_fun = multiply()\n",
        "\n",
        "print(next(mul_fun))\n",
        "print(next(mul_fun))"
      ],
      "execution_count": 0,
      "outputs": [
        {
          "output_type": "stream",
          "text": [
            "1\n",
            "4\n"
          ],
          "name": "stdout"
        }
      ]
    },
    {
      "cell_type": "markdown",
      "metadata": {
        "id": "VVR7DNJWiWr9",
        "colab_type": "text"
      },
      "source": [
        "Key takeaways (solve memory problem):  \n",
        "* Generators produce values one-at-a-time as opposed to giving them all at once.  \n",
        "* There are two ways to create generators: generator functions and generator expressions.  \n",
        "* Generator functions yield, regular functions return.  \n",
        "* Generator expressions need (), list comprehensions use [].  \n",
        "* You can only use a generator once.  \n",
        "* There are two ways to get values from generators: the next() function and a for loop. The for loop is often the preferred method.\n",
        "We can use generators to read files and give us one line at a time.\n",
        "\n",
        "\n",
        "[Source](https://www.dataquest.io/blog/python-generators-tutorial/)"
      ]
    }
  ]
}